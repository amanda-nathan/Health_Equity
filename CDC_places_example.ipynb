{
 "cells": [
  {
   "cell_type": "code",
   "execution_count": 2,
   "id": "fa1e47fc",
   "metadata": {},
   "outputs": [
    {
     "name": "stdout",
     "output_type": "stream",
     "text": [
      "Status: 200\n",
      "Retrieved 10 Massachusetts records\n"
     ]
    }
   ],
   "source": [
    "import requests\n",
    "import pandas as pd\n",
    "import json\n",
    "\n",
    "url = \"https://chronicdata.cdc.gov/resource/cwsq-ngmh.json\"\n",
    "params = {\"stateabbr\": \"MA\", \"$limit\": \"10\"}\n",
    "response = requests.get(url, params=params)\n",
    "print(f\"Status: {response.status_code}\")\n",
    "ma_data = response.json()\n",
    "print(f\"Retrieved {len(ma_data)} Massachusetts records\")"
   ]
  },
  {
   "cell_type": "code",
   "execution_count": 3,
   "id": "669343e5",
   "metadata": {},
   "outputs": [
    {
     "name": "stdout",
     "output_type": "stream",
     "text": [
      "Available fields:\n",
      "  year\n",
      "  stateabbr\n",
      "  statedesc\n",
      "  countyname\n",
      "  countyfips\n",
      "  locationname\n",
      "  datasource\n",
      "  category\n",
      "  measure\n",
      "  data_value_unit\n",
      "  data_value_type\n",
      "  data_value\n",
      "  low_confidence_limit\n",
      "  high_confidence_limit\n",
      "  totalpopulation\n",
      "  totalpop18plus\n",
      "  geolocation\n",
      "  locationid\n",
      "  categoryid\n",
      "  measureid\n",
      "  datavaluetypeid\n",
      "  short_question_text\n"
     ]
    }
   ],
   "source": [
    "if ma_data:\n",
    "    first_record = ma_data[0]\n",
    "    print(\"Available fields:\")\n",
    "    for key in first_record.keys():\n",
    "        print(f\"  {key}\")"
   ]
  },
  {
   "cell_type": "code",
   "execution_count": 4,
   "id": "730f6c2a",
   "metadata": {},
   "outputs": [
    {
     "name": "stdout",
     "output_type": "stream",
     "text": [
      "Sample record structure:\n",
      "Location: 25003900400 (Berkshire County)\n",
      "Measure: Stroke among adults\n",
      "Value: 3.3% (Crude prevalence)\n",
      "Confidence Interval: 3.0-3.7%\n",
      "Population: 4742 (18+: 3813)\n",
      "Year: 2022, Source: BRFSS\n"
     ]
    }
   ],
   "source": [
    "print(\"Sample record structure:\")\n",
    "if ma_data:\n",
    "    sample = ma_data[0]\n",
    "    print(f\"Location: {sample['locationname']} ({sample['countyname']} County)\")\n",
    "    print(f\"Measure: {sample['measure']}\")\n",
    "    print(f\"Value: {sample['data_value']}% ({sample['data_value_type']})\")\n",
    "    print(f\"Confidence Interval: {sample['low_confidence_limit']}-{sample['high_confidence_limit']}%\")\n",
    "    print(f\"Population: {sample['totalpopulation']} (18+: {sample['totalpop18plus']})\")\n",
    "    print(f\"Year: {sample['year']}, Source: {sample['datasource']}\")"
   ]
  },
  {
   "cell_type": "code",
   "execution_count": 5,
   "id": "f4a774ee",
   "metadata": {},
   "outputs": [
    {
     "name": "stdout",
     "output_type": "stream",
     "text": [
      "Health Categories in MA data:\n",
      "  Health Outcomes: 10 records\n"
     ]
    }
   ],
   "source": [
    "categories = {}\n",
    "for record in ma_data:\n",
    "    cat = record.get('category', 'Unknown')\n",
    "    categories[cat] = categories.get(cat, 0) + 1\n",
    "\n",
    "print(\"Health Categories in MA data:\")\n",
    "for category, count in sorted(categories.items()):\n",
    "    print(f\"  {category}: {count} records\")"
   ]
  },
  {
   "cell_type": "code",
   "execution_count": 6,
   "id": "87f347c4",
   "metadata": {},
   "outputs": [
    {
     "name": "stdout",
     "output_type": "stream",
     "text": [
      "Found 1 unique health measures:\n",
      "  Stroke among adults: 10 records\n"
     ]
    }
   ],
   "source": [
    "measures = {}\n",
    "for record in ma_data:\n",
    "    measure = record.get('measure', 'Unknown')\n",
    "    measures[measure] = measures.get(measure, 0) + 1\n",
    "\n",
    "print(f\"Found {len(measures)} unique health measures:\")\n",
    "for measure, count in sorted(measures.items()):\n",
    "    print(f\"  {measure}: {count} records\")\n"
   ]
  },
  {
   "cell_type": "code",
   "execution_count": 7,
   "id": "60d64444",
   "metadata": {},
   "outputs": [
    {
     "name": "stdout",
     "output_type": "stream",
     "text": [
      "Retrieved 500 MA records for analysis\n"
     ]
    }
   ],
   "source": [
    "#Ah let's get more\n",
    "large_params = {\"stateabbr\": \"MA\", \"$limit\": \"500\"}\n",
    "large_response = requests.get(url, params=large_params)\n",
    "large_ma_data = large_response.json()\n",
    "print(f\"Retrieved {len(large_ma_data)} MA records for analysis\")"
   ]
  },
  {
   "cell_type": "code",
   "execution_count": 8,
   "id": "52346465",
   "metadata": {},
   "outputs": [
    {
     "name": "stdout",
     "output_type": "stream",
     "text": [
      "Massachusetts Counties in dataset:\n",
      "  Barnstable: 68 records\n",
      "  Berkshire: 52 records\n",
      "  Bristol: 159 records\n",
      "  Dukes: 7 records\n",
      "  Essex: 134 records\n",
      "  Franklin: 1 records\n",
      "  Hampden: 9 records\n",
      "  Hampshire: 2 records\n",
      "  Middlesex: 13 records\n",
      "  Norfolk: 21 records\n",
      "  Plymouth: 9 records\n",
      "  Suffolk: 23 records\n",
      "  Worcester: 2 records\n"
     ]
    }
   ],
   "source": [
    "counties = {}\n",
    "for record in large_ma_data:\n",
    "    county = record.get('countyname', 'Unknown')\n",
    "    counties[county] = counties.get(county, 0) + 1\n",
    "\n",
    "print(\"Massachusetts Counties in dataset:\")\n",
    "for county, count in sorted(counties.items()):\n",
    "    print(f\"  {county}: {count} records\")"
   ]
  },
  {
   "cell_type": "code",
   "execution_count": 9,
   "id": "406ce06c",
   "metadata": {},
   "outputs": [
    {
     "name": "stdout",
     "output_type": "stream",
     "text": [
      "Data years available:\n",
      "  2021: 33 records\n",
      "  2022: 467 records\n"
     ]
    }
   ],
   "source": [
    "years = {}\n",
    "for record in large_ma_data:\n",
    "    year = record.get('year', 'Unknown')\n",
    "    years[year] = years.get(year, 0) + 1\n",
    "print(\"Data years available:\")\n",
    "for year, count in sorted(years.items()):\n",
    "    print(f\"  {year}: {count} records\")"
   ]
  },
  {
   "cell_type": "code",
   "execution_count": 10,
   "id": "9dfcca85",
   "metadata": {},
   "outputs": [
    {
     "name": "stdout",
     "output_type": "stream",
     "text": [
      "Data sources:\n",
      "  BRFSS: 500 records\n"
     ]
    }
   ],
   "source": [
    "sources = {}\n",
    "for record in large_ma_data:\n",
    "    source = record.get('datasource', 'Unknown')\n",
    "    sources[source] = sources.get(source, 0) + 1\n",
    "\n",
    "print(\"Data sources:\")\n",
    "for source, count in sorted(sources.items()):\n",
    "    print(f\"  {source}: {count} records\")"
   ]
  },
  {
   "cell_type": "code",
   "execution_count": 11,
   "id": "ac379877",
   "metadata": {},
   "outputs": [
    {
     "name": "stdout",
     "output_type": "stream",
     "text": [
      "Healthcare Equity relevant measures: 158\n",
      "  Coronary heart disease among adults: 9 records\n",
      "  Diagnosed diabetes among adults: 9 records\n",
      "  High blood pressure among adults: 8 records\n",
      "  Obesity among adults: 28 records\n",
      "  Stroke among adults: 96 records\n",
      "  Taking medicine to control high blood pressure among adults with high blood pressure: 8 records\n"
     ]
    }
   ],
   "source": [
    "equity_measures = []\n",
    "for record in large_ma_data:\n",
    "    measure = record.get('measure', '').lower()\n",
    "    if any(keyword in measure for keyword in ['diabetes', 'obesity', 'blood pressure', 'heart', 'stroke']):\n",
    "        equity_measures.append(record)\n",
    "\n",
    "print(f\"Healthcare Equity relevant measures: {len(equity_measures)}\")\n",
    "equity_conditions = {}\n",
    "for record in equity_measures:\n",
    "    measure = record.get('measure', 'Unknown')\n",
    "    equity_conditions[measure] = equity_conditions.get(measure, 0) + 1\n",
    "\n",
    "for condition, count in sorted(equity_conditions.items()):\n",
    "    print(f\"  {condition}: {count} records\")"
   ]
  },
  {
   "cell_type": "code",
   "execution_count": 12,
   "id": "836729cd",
   "metadata": {},
   "outputs": [
    {
     "name": "stdout",
     "output_type": "stream",
     "text": [
      "Records with geographic coordinates: 500\n",
      "Sample geographic data:\n",
      "  Berkshire: 42.479, -73.255\n",
      "  Berkshire: 42.480, -73.154\n",
      "  Bristol: 42.041, -71.136\n",
      "  Bristol: 42.035, -71.223\n",
      "  Bristol: 41.886, -71.068\n"
     ]
    }
   ],
   "source": [
    "geo_records = []\n",
    "for record in large_ma_data:\n",
    "    geo = record.get('geolocation', {})\n",
    "    if geo and isinstance(geo, dict) and 'coordinates' in geo:\n",
    "        coords = geo['coordinates']\n",
    "        if len(coords) >= 2:\n",
    "            geo_records.append({\n",
    "                'location': record.get('locationname', ''),\n",
    "                'county': record.get('countyname', ''),\n",
    "                'longitude': coords[0],\n",
    "                'latitude': coords[1],\n",
    "                'measure': record.get('measure', ''),\n",
    "                'value': record.get('data_value', ''),\n",
    "                'year': record.get('year', '')\n",
    "            })\n",
    "\n",
    "print(f\"Records with geographic coordinates: {len(geo_records)}\")\n",
    "if geo_records:\n",
    "    print(\"Sample geographic data:\")\n",
    "    for item in geo_records[:5]:\n",
    "        print(f\"  {item['county']}: {item['latitude']:.3f}, {item['longitude']:.3f}\")"
   ]
  },
  {
   "cell_type": "code",
   "execution_count": 13,
   "id": "b34fffb3",
   "metadata": {},
   "outputs": [
    {
     "name": "stdout",
     "output_type": "stream",
     "text": [
      "Data Quality Analysis:\n",
      "Total records: 500\n",
      "Missing/invalid values: 0 (0.0%)\n",
      "Valid percentage values: 500 (100.0%)\n"
     ]
    }
   ],
   "source": [
    "print(\"Data Quality Analysis:\")\n",
    "total_records = len(large_ma_data)\n",
    "missing_values = 0\n",
    "valid_ranges = 0\n",
    "\n",
    "for record in large_ma_data:\n",
    "    value = record.get('data_value', '')\n",
    "    if not value or value == '':\n",
    "        missing_values += 1\n",
    "    else:\n",
    "        try:\n",
    "            val = float(value)\n",
    "            if 0 <= val <= 100:\n",
    "                valid_ranges += 1\n",
    "        except:\n",
    "            missing_values += 1\n",
    "\n",
    "print(f\"Total records: {total_records}\")\n",
    "print(f\"Missing/invalid values: {missing_values} ({missing_values/total_records*100:.1f}%)\")\n",
    "print(f\"Valid percentage values: {valid_ranges} ({valid_ranges/total_records*100:.1f}%)\")"
   ]
  },
  {
   "cell_type": "code",
   "execution_count": 14,
   "id": "ed4b5a9e",
   "metadata": {},
   "outputs": [
    {
     "name": "stdout",
     "output_type": "stream",
     "text": [
      "Created DataFrame with 500 rows and 11 columns\n",
      "Columns: ['year', 'county', 'location_id', 'measure', 'category', 'value', 'confidence_low', 'confidence_high', 'population', 'data_source', 'data_type']\n"
     ]
    }
   ],
   "source": [
    "df_data = []\n",
    "for record in large_ma_data:\n",
    "    try:\n",
    "        df_data.append({\n",
    "            'year': record.get('year', ''),\n",
    "            'county': record.get('countyname', ''),\n",
    "            'location_id': record.get('locationname', ''),\n",
    "            'measure': record.get('measure', ''),\n",
    "            'category': record.get('category', ''),\n",
    "            'value': float(record.get('data_value', 0)) if record.get('data_value') else None,\n",
    "            'confidence_low': float(record.get('low_confidence_limit', 0)) if record.get('low_confidence_limit') else None,\n",
    "            'confidence_high': float(record.get('high_confidence_limit', 0)) if record.get('high_confidence_limit') else None,\n",
    "            'population': int(record.get('totalpopulation', 0)) if record.get('totalpopulation') else None,\n",
    "            'data_source': record.get('datasource', ''),\n",
    "            'data_type': record.get('data_value_type', '')\n",
    "        })\n",
    "    except:\n",
    "        pass\n",
    "\n",
    "df = pd.DataFrame(df_data)\n",
    "print(f\"Created DataFrame with {len(df)} rows and {len(df.columns)} columns\")\n",
    "print(f\"Columns: {df.columns.tolist()}\")\n"
   ]
  },
  {
   "cell_type": "code",
   "execution_count": 15,
   "id": "9446fb50",
   "metadata": {},
   "outputs": [
    {
     "name": "stdout",
     "output_type": "stream",
     "text": [
      "Diabetes records: 9\n",
      "Diabetes data years: ['2022']\n",
      "Counties with diabetes data: 4\n",
      "\n",
      "Sample diabetes prevalence data:\n",
      "  Barnstable (2022): 10.7%\n",
      "  Essex (2022): 9.1%\n",
      "  Essex (2022): 7.4%\n",
      "  Essex (2022): 9.4%\n",
      "  Bristol (2022): 13.5%\n"
     ]
    }
   ],
   "source": [
    "diabetes_df = df[df['measure'].str.contains('Diabetes', case=False, na=False)]\n",
    "print(f\"Diabetes records: {len(diabetes_df)}\")\n",
    "\n",
    "if not diabetes_df.empty:\n",
    "    print(f\"Diabetes data years: {sorted(diabetes_df['year'].unique())}\")\n",
    "    print(f\"Counties with diabetes data: {len(diabetes_df['county'].unique())}\")\n",
    "    \n",
    "    \n",
    "    print(\"\\nSample diabetes prevalence data:\")\n",
    "    for _, row in diabetes_df.head().iterrows():\n",
    "        print(f\"  {row['county']} ({row['year']}): {row['value']}%\")\n"
   ]
  },
  {
   "cell_type": "code",
   "execution_count": 16,
   "id": "ef01edeb",
   "metadata": {},
   "outputs": [
    {
     "name": "stdout",
     "output_type": "stream",
     "text": [
      "Diabetes records: 9\n",
      "Diabetes data years: ['2022']\n",
      "Counties with diabetes data: 4\n",
      "\n",
      "Sample diabetes prevalence data:\n",
      "  Barnstable (2022): 10.7%\n",
      "  Essex (2022): 9.1%\n",
      "  Essex (2022): 7.4%\n",
      "  Essex (2022): 9.4%\n",
      "  Bristol (2022): 13.5%\n"
     ]
    }
   ],
   "source": [
    "diabetes_df = df[df['measure'].str.contains('Diabetes', case=False, na=False)]\n",
    "print(f\"Diabetes records: {len(diabetes_df)}\")\n",
    "\n",
    "if not diabetes_df.empty:\n",
    "    print(f\"Diabetes data years: {sorted(diabetes_df['year'].unique())}\")\n",
    "    print(f\"Counties with diabetes data: {len(diabetes_df['county'].unique())}\")\n",
    "    \n",
    "    \n",
    "    print(\"\\nSample diabetes prevalence data:\")\n",
    "    for _, row in diabetes_df.head().iterrows():\n",
    "        print(f\"  {row['county']} ({row['year']}): {row['value']}%\")\n"
   ]
  },
  {
   "cell_type": "code",
   "execution_count": 17,
   "id": "f93d2a71",
   "metadata": {},
   "outputs": [
    {
     "name": "stdout",
     "output_type": "stream",
     "text": [
      "Multi-condition summary for analytics:\n",
      "\n",
      "Diabetes:\n",
      "  Records: 9\n",
      "  Counties: 4\n",
      "  Years: ['2022']\n",
      "  Average prevalence: 10.3%\n",
      "\n",
      "Obesity:\n",
      "  Records: 28\n",
      "  Counties: 9\n",
      "  Years: ['2022']\n",
      "  Average prevalence: 28.8%\n",
      "\n",
      "High blood pressure:\n",
      "  Records: 16\n",
      "  Counties: 5\n",
      "  Years: ['2021']\n",
      "  Average prevalence: 56.1%\n",
      "\n",
      "Stroke:\n",
      "  Records: 96\n",
      "  Counties: 12\n",
      "  Years: ['2022']\n",
      "  Average prevalence: 3.2%\n",
      "\n",
      "Cancer:\n",
      "  Records: 12\n",
      "  Counties: 4\n",
      "  Years: ['2022']\n",
      "  Average prevalence: 48.7%\n"
     ]
    }
   ],
   "source": [
    "conditions = ['Diabetes', 'Obesity', 'High blood pressure', 'Stroke', 'Cancer']\n",
    "condition_summary = {}\n",
    "\n",
    "for condition in conditions:\n",
    "    subset = df[df['measure'].str.contains(condition, case=False, na=False)]\n",
    "    if not subset.empty:\n",
    "        condition_summary[condition] = {\n",
    "            'records': len(subset),\n",
    "            'counties': len(subset['county'].unique()),\n",
    "            'years': sorted(subset['year'].unique()),\n",
    "            'avg_value': subset['value'].mean() if subset['value'].notna().any() else 0\n",
    "        }\n",
    "\n",
    "print(\"Multi-condition summary for analytics:\")\n",
    "for condition, stats in condition_summary.items():\n",
    "    print(f\"\\n{condition}:\")\n",
    "    print(f\"  Records: {stats['records']}\")\n",
    "    print(f\"  Counties: {stats['counties']}\")\n",
    "    print(f\"  Years: {stats['years']}\")\n",
    "    print(f\"  Average prevalence: {stats['avg_value']:.1f}%\")"
   ]
  },
  {
   "cell_type": "code",
   "execution_count": 18,
   "id": "8c4f7c88",
   "metadata": {},
   "outputs": [
    {
     "name": "stdout",
     "output_type": "stream",
     "text": [
      "Latest year analysis (2022):\n",
      "Records: 467\n",
      "\n",
      "County health metrics for 2022:\n",
      "           value        population\n",
      "           count   mean        max\n",
      "county                            \n",
      "Barnstable    58  18.66       7201\n",
      "Berkshire     48  19.92       6330\n",
      "Bristol      147  22.46       8101\n",
      "Dukes          6  18.57       5341\n",
      "Essex        128  17.75       9069\n"
     ]
    }
   ],
   "source": [
    "latest_year = df['year'].max()\n",
    "latest_data = df[df['year'] == latest_year]\n",
    "\n",
    "print(f\"Latest year analysis ({latest_year}):\")\n",
    "print(f\"Records: {len(latest_data)}\")\n",
    "\n",
    "\n",
    "county_summary = latest_data.groupby('county').agg({\n",
    "    'value': ['count', 'mean'],\n",
    "    'population': 'max'\n",
    "}).round(2)\n",
    "\n",
    "if not county_summary.empty:\n",
    "    print(f\"\\nCounty health metrics for {latest_year}:\")\n",
    "    print(county_summary.head())"
   ]
  },
  {
   "cell_type": "code",
   "execution_count": 19,
   "id": "f0084c84",
   "metadata": {},
   "outputs": [
    {
     "name": "stdout",
     "output_type": "stream",
     "text": [
      "Sample data ready for export:\n",
      "    year     county                 measure  value  confidence_low  \\\n",
      "0   2022  Berkshire     Stroke among adults    3.3             3.0   \n",
      "1   2022  Berkshire     Stroke among adults    3.3             3.0   \n",
      "2   2022    Bristol     Stroke among adults    3.0             2.7   \n",
      "3   2022    Bristol     Stroke among adults    2.3             2.1   \n",
      "4   2022    Bristol     Stroke among adults    3.2             3.0   \n",
      "5   2022    Bristol     Stroke among adults    3.0             2.7   \n",
      "6   2022    Bristol     Stroke among adults    5.4             4.9   \n",
      "7   2022    Bristol     Stroke among adults    4.4             4.0   \n",
      "8   2022    Bristol     Stroke among adults    4.0             3.6   \n",
      "9   2022    Bristol     Stroke among adults    3.5             3.2   \n",
      "10  2022    Bristol     Stroke among adults    3.9             3.6   \n",
      "11  2022    Bristol     Stroke among adults    3.7             3.4   \n",
      "12  2022    Bristol     Stroke among adults    4.0             3.6   \n",
      "13  2022    Bristol     Stroke among adults    5.1             4.7   \n",
      "14  2022    Bristol  Arthritis among adults   34.3            31.4   \n",
      "15  2022    Bristol     Stroke among adults    4.5             4.2   \n",
      "16  2022    Bristol     Stroke among adults    3.3             3.0   \n",
      "17  2022    Bristol    Obesity among adults   30.1            26.1   \n",
      "18  2022      Dukes  Arthritis among adults   30.3            26.6   \n",
      "19  2022      Essex  Arthritis among adults   25.8            23.5   \n",
      "\n",
      "    confidence_high  \n",
      "0               3.7  \n",
      "1               3.7  \n",
      "2               3.2  \n",
      "3               2.5  \n",
      "4               3.5  \n",
      "5               3.3  \n",
      "6               5.9  \n",
      "7               4.8  \n",
      "8               4.3  \n",
      "9               3.8  \n",
      "10              4.3  \n",
      "11              4.0  \n",
      "12              4.3  \n",
      "13              5.5  \n",
      "14             37.0  \n",
      "15              4.9  \n",
      "16              3.6  \n",
      "17             34.2  \n",
      "18             34.3  \n",
      "19             28.3  \n",
      "\n",
      "Data pipeline summary:\n",
      "- From the CDC PLACES API\n",
      "- Retrieved 500 Massachusetts health records\n",
      "- Processed 500 valid records into analysis format\n",
      "- Identified 13 counties with health data\n",
      "- Found data spanning 2 years\n"
     ]
    }
   ],
   "source": [
    "sample_export = df.head(20)[['year', 'county', 'measure', 'value', 'confidence_low', 'confidence_high']]\n",
    "print(\"Sample data ready for export:\")\n",
    "print(sample_export)\n",
    "\n",
    "print(f\"\\nData pipeline summary:\")\n",
    "print(f\"- From the CDC PLACES API\")\n",
    "print(f\"- Retrieved {len(large_ma_data)} Massachusetts health records\")\n",
    "print(f\"- Processed {len(df)} valid records into analysis format\")\n",
    "print(f\"- Identified {len(counties)} counties with health data\")\n",
    "print(f\"- Found data spanning {len(years)} years\")\n"
   ]
  }
 ],
 "metadata": {
  "kernelspec": {
   "display_name": "Python 3",
   "language": "python",
   "name": "python3"
  },
  "language_info": {
   "codemirror_mode": {
    "name": "ipython",
    "version": 3
   },
   "file_extension": ".py",
   "mimetype": "text/x-python",
   "name": "python",
   "nbconvert_exporter": "python",
   "pygments_lexer": "ipython3",
   "version": "3.12.1"
  }
 },
 "nbformat": 4,
 "nbformat_minor": 5
}
